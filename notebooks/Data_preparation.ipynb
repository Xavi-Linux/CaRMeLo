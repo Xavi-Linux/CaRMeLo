{
 "cells": [
  {
   "cell_type": "markdown",
   "id": "5f20612b-91c7-461d-a487-904685caf5d0",
   "metadata": {},
   "source": [
    "## Import Libraries"
   ]
  },
  {
   "cell_type": "code",
   "execution_count": 1,
   "id": "9ffc4fd1-20da-4f58-9f62-e0334d9b6487",
   "metadata": {},
   "outputs": [],
   "source": [
    "import pandas as pd\n",
    "import numpy as np\n",
    "from pathlib import Path\n",
    "from typing import Callable, List"
   ]
  },
  {
   "cell_type": "code",
   "execution_count": 2,
   "id": "63b04429-ec3d-400c-a20c-06027e487c30",
   "metadata": {},
   "outputs": [],
   "source": [
    "pd.set_option('display.max_rows', None, 'display.max_columns', None)\n",
    "pd.set_option('display.max_colwidth', None)"
   ]
  },
  {
   "cell_type": "code",
   "execution_count": 3,
   "id": "fed23f3c-6022-46f6-9129-c24e1c29f0f7",
   "metadata": {},
   "outputs": [
    {
     "name": "stdout",
     "output_type": "stream",
     "text": [
      "/home/xavi/Documents/CreditRisk/notebooks\n"
     ]
    }
   ],
   "source": [
    "!pwd"
   ]
  },
  {
   "cell_type": "code",
   "execution_count": 4,
   "id": "3017b2b6-d2c2-4dc8-82f2-bae9f1fd5dcf",
   "metadata": {},
   "outputs": [],
   "source": [
    "file: Path = Path('/home/xavi/Documents/CreditRisk/data/curated/dataset.parquet')"
   ]
  },
  {
   "cell_type": "code",
   "execution_count": 5,
   "id": "b4a8829a-03bf-4707-be1c-21235418b832",
   "metadata": {},
   "outputs": [],
   "source": [
    "df: pd.DataFrame = pd.read_parquet(file, engine='pyarrow')"
   ]
  },
  {
   "cell_type": "markdown",
   "id": "e791c3c3-9b81-4879-922b-c5512440c4e4",
   "metadata": {},
   "source": [
    "### Depedent variable:"
   ]
  },
  {
   "cell_type": "code",
   "execution_count": 6,
   "id": "468fb8c8-cd41-4ecd-9625-5581fc236fb3",
   "metadata": {},
   "outputs": [
    {
     "data": {
      "text/plain": [
       "loan_status\n",
       "Current                                                0.480878\n",
       "Fully Paid                                             0.396193\n",
       "Charged Off                                            0.091092\n",
       "Late (31-120 days)                                     0.014798\n",
       "In Grace Period                                        0.006747\n",
       "Does not meet the credit policy. Status:Fully Paid     0.004263\n",
       "Late (16-30 days)                                      0.002612\n",
       "Default                                                0.001784\n",
       "Does not meet the credit policy. Status:Charged Off    0.001632\n",
       "Name: proportion, dtype: float64"
      ]
     },
     "execution_count": 6,
     "metadata": {},
     "output_type": "execute_result"
    }
   ],
   "source": [
    "df['loan_status'].value_counts(dropna=False, normalize=True)"
   ]
  },
  {
   "cell_type": "code",
   "execution_count": 7,
   "id": "30215db3-2997-4f1f-94b3-c275138c1bd5",
   "metadata": {},
   "outputs": [],
   "source": [
    "defaults: List[str] = [\n",
    "    'Charged Off',\n",
    "    'Late (31-120 days)',\n",
    "    'Default',\n",
    "    'Does not meet the credit policy. Status:Charged Off'\n",
    "]"
   ]
  },
  {
   "cell_type": "code",
   "execution_count": 8,
   "id": "c9bf0a4e-5d51-4c31-a371-a6b36af1c409",
   "metadata": {},
   "outputs": [],
   "source": [
    "is_in_defaults: Callable  = defaults.__contains__"
   ]
  },
  {
   "cell_type": "code",
   "execution_count": 9,
   "id": "52d6f146-d9b6-4c3b-9401-b96ebc41bed1",
   "metadata": {},
   "outputs": [],
   "source": [
    "df['non_default'] = df['loan_status'].apply(lambda v: 0 if is_in_defaults(v) else 1)"
   ]
  },
  {
   "cell_type": "code",
   "execution_count": 10,
   "id": "811aef97-e769-4444-962e-0e7af28e1de9",
   "metadata": {},
   "outputs": [
    {
     "data": {
      "text/plain": [
       "dtype('int16')"
      ]
     },
     "execution_count": 10,
     "metadata": {},
     "output_type": "execute_result"
    }
   ],
   "source": [
    "df['zip_code'].dtype"
   ]
  },
  {
   "cell_type": "markdown",
   "id": "112ad92b-3d17-40f0-b04c-3381169c215a",
   "metadata": {},
   "source": [
    "### Indepent variables"
   ]
  },
  {
   "cell_type": "code",
   "execution_count": 11,
   "id": "c15d91b6-0025-4937-9bac-482acf654803",
   "metadata": {},
   "outputs": [],
   "source": [
    "#TODO: calculate Weight of evidence and Information value"
   ]
  },
  {
   "cell_type": "code",
   "execution_count": 12,
   "id": "d278263f-5166-4a26-ba03-c6f1de94401f",
   "metadata": {},
   "outputs": [],
   "source": [
    "category_mask: pd.Series = df.dtypes == 'category'"
   ]
  },
  {
   "cell_type": "code",
   "execution_count": 13,
   "id": "5705162f-3f67-47f4-94ea-8bbf9d420d48",
   "metadata": {},
   "outputs": [
    {
     "data": {
      "text/plain": [
       "term                   category\n",
       "grade                  category\n",
       "sub_grade              category\n",
       "emp_length             category\n",
       "home_ownership         category\n",
       "verification_status    category\n",
       "loan_status            category\n",
       "pymnt_plan             category\n",
       "purpose                category\n",
       "addr_state             category\n",
       "initial_list_status    category\n",
       "policy_code            category\n",
       "application_type       category\n",
       "issue_d                category\n",
       "dtype: object"
      ]
     },
     "execution_count": 13,
     "metadata": {},
     "output_type": "execute_result"
    }
   ],
   "source": [
    "df.dtypes[category_mask]"
   ]
  },
  {
   "cell_type": "code",
   "execution_count": 45,
   "id": "cc32e685-2e93-4f24-8e49-c34b9565c639",
   "metadata": {},
   "outputs": [],
   "source": [
    "marginal_prob: pd.DataFrame = pd.crosstab(df['grade'], df['non_default'], margins=False, normalize='columns', dropna=False, colnames=['default'])"
   ]
  },
  {
   "cell_type": "code",
   "execution_count": 46,
   "id": "7944d445-36a9-49c9-81fc-98f384fde7bf",
   "metadata": {},
   "outputs": [],
   "source": [
    "marginal_prob['weight_of_evidence'] = marginal_prob.apply(axis=1, func=lambda s: np.log(s[1]) - np.log(s[0]))"
   ]
  },
  {
   "cell_type": "code",
   "execution_count": 58,
   "id": "734c7e42-dc73-46a5-817f-0b468cdf8756",
   "metadata": {},
   "outputs": [],
   "source": [
    "marginal_prob['woe_diff'] = marginal_prob.sort_index(ascending=False)['weight_of_evidence'].diff().abs()"
   ]
  },
  {
   "cell_type": "code",
   "execution_count": 59,
   "id": "d19c500a-e9ce-40c7-8d39-e73c6cd95ac6",
   "metadata": {},
   "outputs": [
    {
     "data": {
      "text/html": [
       "<div>\n",
       "<style scoped>\n",
       "    .dataframe tbody tr th:only-of-type {\n",
       "        vertical-align: middle;\n",
       "    }\n",
       "\n",
       "    .dataframe tbody tr th {\n",
       "        vertical-align: top;\n",
       "    }\n",
       "\n",
       "    .dataframe thead th {\n",
       "        text-align: right;\n",
       "    }\n",
       "</style>\n",
       "<table border=\"1\" class=\"dataframe\">\n",
       "  <thead>\n",
       "    <tr style=\"text-align: right;\">\n",
       "      <th>default</th>\n",
       "      <th>0</th>\n",
       "      <th>1</th>\n",
       "      <th>weight_of_evidence</th>\n",
       "      <th>woe_diff</th>\n",
       "    </tr>\n",
       "    <tr>\n",
       "      <th>grade</th>\n",
       "      <th></th>\n",
       "      <th></th>\n",
       "      <th></th>\n",
       "      <th></th>\n",
       "    </tr>\n",
       "  </thead>\n",
       "  <tbody>\n",
       "    <tr>\n",
       "      <th>G</th>\n",
       "      <td>0.018129</td>\n",
       "      <td>0.005774</td>\n",
       "      <td>-1.144166</td>\n",
       "      <td>NaN</td>\n",
       "    </tr>\n",
       "    <tr>\n",
       "      <th>F</th>\n",
       "      <td>0.062628</td>\n",
       "      <td>0.024167</td>\n",
       "      <td>-0.952214</td>\n",
       "      <td>0.191952</td>\n",
       "    </tr>\n",
       "    <tr>\n",
       "      <th>E</th>\n",
       "      <td>0.136635</td>\n",
       "      <td>0.069328</td>\n",
       "      <td>-0.678466</td>\n",
       "      <td>0.273748</td>\n",
       "    </tr>\n",
       "    <tr>\n",
       "      <th>D</th>\n",
       "      <td>0.232460</td>\n",
       "      <td>0.156603</td>\n",
       "      <td>-0.395001</td>\n",
       "      <td>0.283465</td>\n",
       "    </tr>\n",
       "    <tr>\n",
       "      <th>C</th>\n",
       "      <td>0.282216</td>\n",
       "      <td>0.267047</td>\n",
       "      <td>-0.055251</td>\n",
       "      <td>0.339750</td>\n",
       "    </tr>\n",
       "    <tr>\n",
       "      <th>B</th>\n",
       "      <td>0.211093</td>\n",
       "      <td>0.303792</td>\n",
       "      <td>0.364043</td>\n",
       "      <td>0.419294</td>\n",
       "    </tr>\n",
       "    <tr>\n",
       "      <th>A</th>\n",
       "      <td>0.056840</td>\n",
       "      <td>0.173289</td>\n",
       "      <td>1.114730</td>\n",
       "      <td>0.750686</td>\n",
       "    </tr>\n",
       "  </tbody>\n",
       "</table>\n",
       "</div>"
      ],
      "text/plain": [
       "default         0         1  weight_of_evidence  woe_diff\n",
       "grade                                                    \n",
       "G        0.018129  0.005774           -1.144166       NaN\n",
       "F        0.062628  0.024167           -0.952214  0.191952\n",
       "E        0.136635  0.069328           -0.678466  0.273748\n",
       "D        0.232460  0.156603           -0.395001  0.283465\n",
       "C        0.282216  0.267047           -0.055251  0.339750\n",
       "B        0.211093  0.303792            0.364043  0.419294\n",
       "A        0.056840  0.173289            1.114730  0.750686"
      ]
     },
     "execution_count": 59,
     "metadata": {},
     "output_type": "execute_result"
    }
   ],
   "source": [
    "marginal_prob.sort_index(ascending=False)"
   ]
  },
  {
   "cell_type": "code",
   "execution_count": 48,
   "id": "c78501b8-240b-4e0d-b977-64bcb0dcb519",
   "metadata": {},
   "outputs": [
    {
     "data": {
      "text/html": [
       "<div>\n",
       "<style scoped>\n",
       "    .dataframe tbody tr th:only-of-type {\n",
       "        vertical-align: middle;\n",
       "    }\n",
       "\n",
       "    .dataframe tbody tr th {\n",
       "        vertical-align: top;\n",
       "    }\n",
       "\n",
       "    .dataframe thead th {\n",
       "        text-align: right;\n",
       "    }\n",
       "</style>\n",
       "<table border=\"1\" class=\"dataframe\">\n",
       "  <thead>\n",
       "    <tr style=\"text-align: right;\">\n",
       "      <th>non_default</th>\n",
       "      <th>0</th>\n",
       "      <th>1</th>\n",
       "    </tr>\n",
       "    <tr>\n",
       "      <th>grade</th>\n",
       "      <th></th>\n",
       "      <th></th>\n",
       "    </tr>\n",
       "  </thead>\n",
       "  <tbody>\n",
       "    <tr>\n",
       "      <th>A</th>\n",
       "      <td>2897</td>\n",
       "      <td>71970</td>\n",
       "    </tr>\n",
       "    <tr>\n",
       "      <th>B</th>\n",
       "      <td>10759</td>\n",
       "      <td>126170</td>\n",
       "    </tr>\n",
       "    <tr>\n",
       "      <th>C</th>\n",
       "      <td>14384</td>\n",
       "      <td>110909</td>\n",
       "    </tr>\n",
       "    <tr>\n",
       "      <th>D</th>\n",
       "      <td>11848</td>\n",
       "      <td>65040</td>\n",
       "    </tr>\n",
       "    <tr>\n",
       "      <th>E</th>\n",
       "      <td>6964</td>\n",
       "      <td>28793</td>\n",
       "    </tr>\n",
       "    <tr>\n",
       "      <th>F</th>\n",
       "      <td>3192</td>\n",
       "      <td>10037</td>\n",
       "    </tr>\n",
       "    <tr>\n",
       "      <th>G</th>\n",
       "      <td>924</td>\n",
       "      <td>2398</td>\n",
       "    </tr>\n",
       "  </tbody>\n",
       "</table>\n",
       "</div>"
      ],
      "text/plain": [
       "non_default      0       1\n",
       "grade                     \n",
       "A             2897   71970\n",
       "B            10759  126170\n",
       "C            14384  110909\n",
       "D            11848   65040\n",
       "E             6964   28793\n",
       "F             3192   10037\n",
       "G              924    2398"
      ]
     },
     "execution_count": 48,
     "metadata": {},
     "output_type": "execute_result"
    }
   ],
   "source": [
    "pd.crosstab(df['grad'], df['non_default'], margins=False, dropna=False)"
   ]
  },
  {
   "cell_type": "code",
   "execution_count": 49,
   "id": "adc4696d-fc23-4ee7-9bb9-c7cfcbd4e37c",
   "metadata": {},
   "outputs": [],
   "source": [
    "f = lambda s: len(s) + 0.5"
   ]
  },
  {
   "cell_type": "code",
   "execution_count": 50,
   "id": "24b1d046-5ad6-466b-80a8-ab7dfe44201a",
   "metadata": {},
   "outputs": [],
   "source": [
    "modified_marginal_prob = pd.pivot_table(data=df, index=df['grade'], columns=df['non_default'], aggfunc=f, fill_value=0.5, values=[])\\\n",
    "    .apply(lambda s: s.apply(lambda v : v / s.sum()))"
   ]
  },
  {
   "cell_type": "code",
   "execution_count": 51,
   "id": "236986f3-fb79-4457-94c5-a8d1a1a77b3c",
   "metadata": {},
   "outputs": [],
   "source": [
    "modified_marginal_prob['weight_of_evidence'] = modified_marginal_prob.apply(axis=1, func=lambda s: np.log(s[1]) - np.log(s[0])) "
   ]
  },
  {
   "cell_type": "code",
   "execution_count": 52,
   "id": "2bb5ad51-c918-495e-b455-d14821556085",
   "metadata": {},
   "outputs": [
    {
     "data": {
      "text/html": [
       "<div>\n",
       "<style scoped>\n",
       "    .dataframe tbody tr th:only-of-type {\n",
       "        vertical-align: middle;\n",
       "    }\n",
       "\n",
       "    .dataframe tbody tr th {\n",
       "        vertical-align: top;\n",
       "    }\n",
       "\n",
       "    .dataframe thead th {\n",
       "        text-align: right;\n",
       "    }\n",
       "</style>\n",
       "<table border=\"1\" class=\"dataframe\">\n",
       "  <thead>\n",
       "    <tr style=\"text-align: right;\">\n",
       "      <th>non_default</th>\n",
       "      <th>0</th>\n",
       "      <th>1</th>\n",
       "      <th>weight_of_evidence</th>\n",
       "    </tr>\n",
       "    <tr>\n",
       "      <th>grade</th>\n",
       "      <th></th>\n",
       "      <th></th>\n",
       "      <th></th>\n",
       "    </tr>\n",
       "  </thead>\n",
       "  <tbody>\n",
       "    <tr>\n",
       "      <th>A</th>\n",
       "      <td>0.056845</td>\n",
       "      <td>0.173289</td>\n",
       "      <td>1.114624</td>\n",
       "    </tr>\n",
       "    <tr>\n",
       "      <th>B</th>\n",
       "      <td>0.211089</td>\n",
       "      <td>0.303791</td>\n",
       "      <td>0.364061</td>\n",
       "    </tr>\n",
       "    <tr>\n",
       "      <th>C</th>\n",
       "      <td>0.282207</td>\n",
       "      <td>0.267046</td>\n",
       "      <td>-0.055221</td>\n",
       "    </tr>\n",
       "    <tr>\n",
       "      <th>D</th>\n",
       "      <td>0.232453</td>\n",
       "      <td>0.156603</td>\n",
       "      <td>-0.394975</td>\n",
       "    </tr>\n",
       "    <tr>\n",
       "      <th>E</th>\n",
       "      <td>0.136635</td>\n",
       "      <td>0.069328</td>\n",
       "      <td>-0.678460</td>\n",
       "    </tr>\n",
       "    <tr>\n",
       "      <th>F</th>\n",
       "      <td>0.062633</td>\n",
       "      <td>0.024168</td>\n",
       "      <td>-0.952260</td>\n",
       "    </tr>\n",
       "    <tr>\n",
       "      <th>G</th>\n",
       "      <td>0.018138</td>\n",
       "      <td>0.005775</td>\n",
       "      <td>-1.144438</td>\n",
       "    </tr>\n",
       "  </tbody>\n",
       "</table>\n",
       "</div>"
      ],
      "text/plain": [
       "non_default         0         1  weight_of_evidence\n",
       "grade                                              \n",
       "A            0.056845  0.173289            1.114624\n",
       "B            0.211089  0.303791            0.364061\n",
       "C            0.282207  0.267046           -0.055221\n",
       "D            0.232453  0.156603           -0.394975\n",
       "E            0.136635  0.069328           -0.678460\n",
       "F            0.062633  0.024168           -0.952260\n",
       "G            0.018138  0.005775           -1.144438"
      ]
     },
     "execution_count": 52,
     "metadata": {},
     "output_type": "execute_result"
    }
   ],
   "source": [
    "modified_marginal_prob"
   ]
  },
  {
   "cell_type": "code",
   "execution_count": 62,
   "id": "35e3db87-e039-466a-b97e-ba0e991b7cb2",
   "metadata": {},
   "outputs": [],
   "source": [
    "modified_marginal_prob['information_value'] = modified_marginal_prob.apply(axis=1, func=lambda s: s['weight_of_evidence'] * (s[1] - s[0]))"
   ]
  },
  {
   "cell_type": "code",
   "execution_count": 63,
   "id": "1b9a7c60-d065-413e-a669-667168d432c2",
   "metadata": {},
   "outputs": [],
   "source": [
    "modified_marginal_prob['information_value'] = modified_marginal_prob['information_value'].sum()"
   ]
  },
  {
   "cell_type": "code",
   "execution_count": 64,
   "id": "080df1e0-e977-4bb1-81a5-dba10c76857b",
   "metadata": {},
   "outputs": [
    {
     "data": {
      "text/html": [
       "<div>\n",
       "<style scoped>\n",
       "    .dataframe tbody tr th:only-of-type {\n",
       "        vertical-align: middle;\n",
       "    }\n",
       "\n",
       "    .dataframe tbody tr th {\n",
       "        vertical-align: top;\n",
       "    }\n",
       "\n",
       "    .dataframe thead th {\n",
       "        text-align: right;\n",
       "    }\n",
       "</style>\n",
       "<table border=\"1\" class=\"dataframe\">\n",
       "  <thead>\n",
       "    <tr style=\"text-align: right;\">\n",
       "      <th>non_default</th>\n",
       "      <th>0</th>\n",
       "      <th>1</th>\n",
       "      <th>weight_of_evidence</th>\n",
       "      <th>information_value</th>\n",
       "    </tr>\n",
       "    <tr>\n",
       "      <th>grade</th>\n",
       "      <th></th>\n",
       "      <th></th>\n",
       "      <th></th>\n",
       "      <th></th>\n",
       "    </tr>\n",
       "  </thead>\n",
       "  <tbody>\n",
       "    <tr>\n",
       "      <th>A</th>\n",
       "      <td>0.056845</td>\n",
       "      <td>0.173289</td>\n",
       "      <td>1.114624</td>\n",
       "      <td>0.290778</td>\n",
       "    </tr>\n",
       "    <tr>\n",
       "      <th>B</th>\n",
       "      <td>0.211089</td>\n",
       "      <td>0.303791</td>\n",
       "      <td>0.364061</td>\n",
       "      <td>0.290778</td>\n",
       "    </tr>\n",
       "    <tr>\n",
       "      <th>C</th>\n",
       "      <td>0.282207</td>\n",
       "      <td>0.267046</td>\n",
       "      <td>-0.055221</td>\n",
       "      <td>0.290778</td>\n",
       "    </tr>\n",
       "    <tr>\n",
       "      <th>D</th>\n",
       "      <td>0.232453</td>\n",
       "      <td>0.156603</td>\n",
       "      <td>-0.394975</td>\n",
       "      <td>0.290778</td>\n",
       "    </tr>\n",
       "    <tr>\n",
       "      <th>E</th>\n",
       "      <td>0.136635</td>\n",
       "      <td>0.069328</td>\n",
       "      <td>-0.678460</td>\n",
       "      <td>0.290778</td>\n",
       "    </tr>\n",
       "    <tr>\n",
       "      <th>F</th>\n",
       "      <td>0.062633</td>\n",
       "      <td>0.024168</td>\n",
       "      <td>-0.952260</td>\n",
       "      <td>0.290778</td>\n",
       "    </tr>\n",
       "    <tr>\n",
       "      <th>G</th>\n",
       "      <td>0.018138</td>\n",
       "      <td>0.005775</td>\n",
       "      <td>-1.144438</td>\n",
       "      <td>0.290778</td>\n",
       "    </tr>\n",
       "  </tbody>\n",
       "</table>\n",
       "</div>"
      ],
      "text/plain": [
       "non_default         0         1  weight_of_evidence  information_value\n",
       "grade                                                                 \n",
       "A            0.056845  0.173289            1.114624           0.290778\n",
       "B            0.211089  0.303791            0.364061           0.290778\n",
       "C            0.282207  0.267046           -0.055221           0.290778\n",
       "D            0.232453  0.156603           -0.394975           0.290778\n",
       "E            0.136635  0.069328           -0.678460           0.290778\n",
       "F            0.062633  0.024168           -0.952260           0.290778\n",
       "G            0.018138  0.005775           -1.144438           0.290778"
      ]
     },
     "execution_count": 64,
     "metadata": {},
     "output_type": "execute_result"
    }
   ],
   "source": [
    "modified_marginal_prob"
   ]
  },
  {
   "cell_type": "code",
   "execution_count": null,
   "id": "9c5be968-36f6-4717-840c-847207b5ac3f",
   "metadata": {},
   "outputs": [],
   "source": []
  }
 ],
 "metadata": {
  "kernelspec": {
   "display_name": "Python 3 (ipykernel)",
   "language": "python",
   "name": "python3"
  },
  "language_info": {
   "codemirror_mode": {
    "name": "ipython",
    "version": 3
   },
   "file_extension": ".py",
   "mimetype": "text/x-python",
   "name": "python",
   "nbconvert_exporter": "python",
   "pygments_lexer": "ipython3",
   "version": "3.12.0"
  }
 },
 "nbformat": 4,
 "nbformat_minor": 5
}
