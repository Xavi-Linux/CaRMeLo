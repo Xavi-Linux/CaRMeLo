{
 "cells": [
  {
   "cell_type": "markdown",
   "id": "5f20612b-91c7-461d-a487-904685caf5d0",
   "metadata": {},
   "source": [
    "## Import Libraries"
   ]
  },
  {
   "cell_type": "code",
   "execution_count": 1,
   "id": "9ffc4fd1-20da-4f58-9f62-e0334d9b6487",
   "metadata": {},
   "outputs": [],
   "source": [
    "import pandas as pd\n",
    "import numpy as np\n",
    "import matplotlib.pyplot as plt\n",
    "from pathlib import Path\n",
    "from typing import Any, Callable, List"
   ]
  },
  {
   "cell_type": "code",
   "execution_count": 2,
   "id": "63b04429-ec3d-400c-a20c-06027e487c30",
   "metadata": {},
   "outputs": [],
   "source": [
    "pd.set_option('display.max_rows', None, 'display.max_columns', None)\n",
    "pd.set_option('display.max_colwidth', None)"
   ]
  },
  {
   "cell_type": "code",
   "execution_count": 3,
   "id": "fed23f3c-6022-46f6-9129-c24e1c29f0f7",
   "metadata": {},
   "outputs": [
    {
     "name": "stdout",
     "output_type": "stream",
     "text": [
      "/home/xavi/Documents/CreditRisk/notebooks\n"
     ]
    }
   ],
   "source": [
    "!pwd"
   ]
  },
  {
   "cell_type": "code",
   "execution_count": 4,
   "id": "3017b2b6-d2c2-4dc8-82f2-bae9f1fd5dcf",
   "metadata": {},
   "outputs": [],
   "source": [
    "file: Path = Path('/home/xavi/Documents/CreditRisk/data/curated/dataset.parquet')"
   ]
  },
  {
   "cell_type": "code",
   "execution_count": 5,
   "id": "b4a8829a-03bf-4707-be1c-21235418b832",
   "metadata": {},
   "outputs": [],
   "source": [
    "df: pd.DataFrame = pd.read_parquet(file, engine='pyarrow')"
   ]
  },
  {
   "cell_type": "markdown",
   "id": "e791c3c3-9b81-4879-922b-c5512440c4e4",
   "metadata": {},
   "source": [
    "### Depedent variable:"
   ]
  },
  {
   "cell_type": "code",
   "execution_count": 6,
   "id": "468fb8c8-cd41-4ecd-9625-5581fc236fb3",
   "metadata": {},
   "outputs": [
    {
     "data": {
      "text/plain": [
       "loan_status\n",
       "Current                                                0.480878\n",
       "Fully Paid                                             0.396193\n",
       "Charged Off                                            0.091092\n",
       "Late (31-120 days)                                     0.014798\n",
       "In Grace Period                                        0.006747\n",
       "Does not meet the credit policy. Status:Fully Paid     0.004263\n",
       "Late (16-30 days)                                      0.002612\n",
       "Default                                                0.001784\n",
       "Does not meet the credit policy. Status:Charged Off    0.001632\n",
       "Name: proportion, dtype: float64"
      ]
     },
     "execution_count": 6,
     "metadata": {},
     "output_type": "execute_result"
    }
   ],
   "source": [
    "df['loan_status'].value_counts(dropna=False, normalize=True)"
   ]
  },
  {
   "cell_type": "code",
   "execution_count": 7,
   "id": "30215db3-2997-4f1f-94b3-c275138c1bd5",
   "metadata": {},
   "outputs": [],
   "source": [
    "defaults: List[str] = [\n",
    "    'Charged Off',\n",
    "    'Late (31-120 days)',\n",
    "    'Default',\n",
    "    'Does not meet the credit policy. Status:Charged Off'\n",
    "]"
   ]
  },
  {
   "cell_type": "code",
   "execution_count": 8,
   "id": "c9bf0a4e-5d51-4c31-a371-a6b36af1c409",
   "metadata": {},
   "outputs": [],
   "source": [
    "is_in_defaults: Callable  = defaults.__contains__"
   ]
  },
  {
   "cell_type": "code",
   "execution_count": 9,
   "id": "52d6f146-d9b6-4c3b-9401-b96ebc41bed1",
   "metadata": {},
   "outputs": [],
   "source": [
    "df['non_default'] = df['loan_status'].apply(lambda v: 0 if is_in_defaults(v) else 1)"
   ]
  },
  {
   "cell_type": "code",
   "execution_count": 10,
   "id": "811aef97-e769-4444-962e-0e7af28e1de9",
   "metadata": {},
   "outputs": [
    {
     "data": {
      "text/plain": [
       "dtype('int16')"
      ]
     },
     "execution_count": 10,
     "metadata": {},
     "output_type": "execute_result"
    }
   ],
   "source": [
    "df['zip_code'].dtype"
   ]
  },
  {
   "cell_type": "markdown",
   "id": "112ad92b-3d17-40f0-b04c-3381169c215a",
   "metadata": {},
   "source": [
    "### Indepent variables"
   ]
  },
  {
   "cell_type": "markdown",
   "id": "27880256-3ee2-4a21-b6ca-fe5023c27763",
   "metadata": {},
   "source": [
    "#### Discrete variables"
   ]
  },
  {
   "cell_type": "code",
   "execution_count": 11,
   "id": "d278263f-5166-4a26-ba03-c6f1de94401f",
   "metadata": {},
   "outputs": [],
   "source": [
    "category_mask: pd.Series = df.dtypes == 'category'"
   ]
  },
  {
   "cell_type": "code",
   "execution_count": 12,
   "id": "5705162f-3f67-47f4-94ea-8bbf9d420d48",
   "metadata": {},
   "outputs": [],
   "source": [
    "categories: List[str] = df.dtypes[category_mask].index.to_list()"
   ]
  },
  {
   "cell_type": "code",
   "execution_count": 13,
   "id": "9c5be968-36f6-4717-840c-847207b5ac3f",
   "metadata": {},
   "outputs": [],
   "source": [
    "cat_df: pd.DataFrame = df[categories + ['non_default']].drop('issue_d', axis=1)"
   ]
  },
  {
   "cell_type": "code",
   "execution_count": 14,
   "id": "83fffb31-a99c-4c9d-a16c-4acc40f53a54",
   "metadata": {},
   "outputs": [],
   "source": [
    "categories.remove('issue_d')\n",
    "categories.remove('loan_status')"
   ]
  },
  {
   "cell_type": "code",
   "execution_count": 15,
   "id": "5473d651-6c06-43e3-8304-5f85192922a9",
   "metadata": {},
   "outputs": [
    {
     "data": {
      "text/plain": [
       "['term',\n",
       " 'grade',\n",
       " 'sub_grade',\n",
       " 'emp_length',\n",
       " 'home_ownership',\n",
       " 'verification_status',\n",
       " 'pymnt_plan',\n",
       " 'purpose',\n",
       " 'addr_state',\n",
       " 'initial_list_status',\n",
       " 'policy_code',\n",
       " 'application_type']"
      ]
     },
     "execution_count": 15,
     "metadata": {},
     "output_type": "execute_result"
    }
   ],
   "source": [
    "categories"
   ]
  },
  {
   "cell_type": "markdown",
   "id": "67c562e8-d804-4e7a-acaa-8fb8e17d650b",
   "metadata": {},
   "source": [
    "**WoE and IV calculation**:"
   ]
  },
  {
   "cell_type": "code",
   "execution_count": 16,
   "id": "63fe07d0-a00c-4eb6-8a29-c40c249ece23",
   "metadata": {},
   "outputs": [],
   "source": [
    "def calculate_woe_iv(data:pd.DataFrame, variable:pd.Series, target:pd.Series, multilevel_index:bool = False, aggfunc: Callable = len) -> pd.DataFrame:\n",
    "    pivot = pd.pivot_table(data=data, index=variable, columns=target, aggfunc=aggfunc, fill_value=0, values=[])\n",
    "    pivot['n_obs'] = pivot.apply(axis=1, func=np.sum)\n",
    "    pivot['n_obs_rel'] = pivot['n_obs'] / pivot['n_obs'].sum()\n",
    "\n",
    "    #add .00000005 to handle errors when calculating WoE (ln(0))\n",
    "    pivot['bad_rel'] = (pivot[0] + .00000005) / pivot[0].sum()\n",
    "    pivot['good_rel'] = (pivot[1] + .00000005) / pivot[1].sum()\n",
    "\n",
    "    pivot['woe'] = np.log(pivot['good_rel']) - np.log(pivot['bad_rel'])\n",
    "\n",
    "    pivot = pivot.sort_values(by='woe', ascending=True)\n",
    "    pivot['good_rel_diff'] = pivot['good_rel'].diff().abs()\n",
    "    pivot['bad_rel_diff'] = pivot['bad_rel'].diff().abs()\n",
    "    pivot['woe_diff'] = pivot['woe'].diff().abs()\n",
    "    pivot['accum_n_obs_rel'] = pivot['n_obs_rel'].cumsum()\n",
    "    \n",
    "    pivot['iv'] = ((pivot['good_rel'] - pivot['bad_rel']) * pivot['woe']).sum()\n",
    "    \n",
    "    if multilevel_index:\n",
    "        pivot['variable'] = variable.name\n",
    "        pivot = pivot.set_index(['variable', pivot.index])\n",
    "\n",
    "    return pivot.sort_values(by='woe', ascending=True)"
   ]
  },
  {
   "cell_type": "code",
   "execution_count": 17,
   "id": "6dff880a-6868-48c0-9d61-ea7ef15b7386",
   "metadata": {},
   "outputs": [],
   "source": [
    "def run_woe_iv(data:pd.DataFrame, independent_vars:List[str], dependent_var:str) -> pd.DataFrame:\n",
    "    accum: pd.Dataframe = pd.DataFrame([])\n",
    "    for v in independent_vars:\n",
    "        result = calculate_woe_iv(data[[v, dependent_var]], data[v], data[dependent_var], multilevel_index=True)\n",
    "        accum = pd.concat([accum, result], axis=0)\n",
    "\n",
    "    return accum"
   ]
  },
  {
   "cell_type": "code",
   "execution_count": 18,
   "id": "cd201fb6-f7b4-4109-96f1-c8deec95fb37",
   "metadata": {},
   "outputs": [
    {
     "data": {
      "text/html": [
       "<div>\n",
       "<style scoped>\n",
       "    .dataframe tbody tr th:only-of-type {\n",
       "        vertical-align: middle;\n",
       "    }\n",
       "\n",
       "    .dataframe tbody tr th {\n",
       "        vertical-align: top;\n",
       "    }\n",
       "\n",
       "    .dataframe thead th {\n",
       "        text-align: right;\n",
       "    }\n",
       "</style>\n",
       "<table border=\"1\" class=\"dataframe\">\n",
       "  <thead>\n",
       "    <tr style=\"text-align: right;\">\n",
       "      <th></th>\n",
       "      <th>non_default</th>\n",
       "      <th>0</th>\n",
       "      <th>1</th>\n",
       "      <th>n_obs</th>\n",
       "      <th>n_obs_rel</th>\n",
       "      <th>bad_rel</th>\n",
       "      <th>good_rel</th>\n",
       "      <th>woe</th>\n",
       "      <th>good_rel_diff</th>\n",
       "      <th>bad_rel_diff</th>\n",
       "      <th>woe_diff</th>\n",
       "      <th>accum_n_obs_rel</th>\n",
       "      <th>iv</th>\n",
       "    </tr>\n",
       "    <tr>\n",
       "      <th>variable</th>\n",
       "      <th>grade</th>\n",
       "      <th></th>\n",
       "      <th></th>\n",
       "      <th></th>\n",
       "      <th></th>\n",
       "      <th></th>\n",
       "      <th></th>\n",
       "      <th></th>\n",
       "      <th></th>\n",
       "      <th></th>\n",
       "      <th></th>\n",
       "      <th></th>\n",
       "      <th></th>\n",
       "    </tr>\n",
       "  </thead>\n",
       "  <tbody>\n",
       "    <tr>\n",
       "      <th rowspan=\"7\" valign=\"top\">grade</th>\n",
       "      <th>G</th>\n",
       "      <td>924</td>\n",
       "      <td>2398</td>\n",
       "      <td>3322</td>\n",
       "      <td>0.007124</td>\n",
       "      <td>0.018129</td>\n",
       "      <td>0.005774</td>\n",
       "      <td>-1.144166</td>\n",
       "      <td>NaN</td>\n",
       "      <td>NaN</td>\n",
       "      <td>NaN</td>\n",
       "      <td>0.007124</td>\n",
       "      <td>0.290782</td>\n",
       "    </tr>\n",
       "    <tr>\n",
       "      <th>F</th>\n",
       "      <td>3192</td>\n",
       "      <td>10037</td>\n",
       "      <td>13229</td>\n",
       "      <td>0.028371</td>\n",
       "      <td>0.062628</td>\n",
       "      <td>0.024167</td>\n",
       "      <td>-0.952214</td>\n",
       "      <td>0.018393</td>\n",
       "      <td>0.044499</td>\n",
       "      <td>0.191952</td>\n",
       "      <td>0.035495</td>\n",
       "      <td>0.290782</td>\n",
       "    </tr>\n",
       "    <tr>\n",
       "      <th>E</th>\n",
       "      <td>6964</td>\n",
       "      <td>28793</td>\n",
       "      <td>35757</td>\n",
       "      <td>0.076685</td>\n",
       "      <td>0.136635</td>\n",
       "      <td>0.069328</td>\n",
       "      <td>-0.678466</td>\n",
       "      <td>0.045161</td>\n",
       "      <td>0.074007</td>\n",
       "      <td>0.273748</td>\n",
       "      <td>0.112180</td>\n",
       "      <td>0.290782</td>\n",
       "    </tr>\n",
       "    <tr>\n",
       "      <th>D</th>\n",
       "      <td>11848</td>\n",
       "      <td>65040</td>\n",
       "      <td>76888</td>\n",
       "      <td>0.164895</td>\n",
       "      <td>0.232460</td>\n",
       "      <td>0.156603</td>\n",
       "      <td>-0.395001</td>\n",
       "      <td>0.087276</td>\n",
       "      <td>0.095825</td>\n",
       "      <td>0.283465</td>\n",
       "      <td>0.277075</td>\n",
       "      <td>0.290782</td>\n",
       "    </tr>\n",
       "    <tr>\n",
       "      <th>C</th>\n",
       "      <td>14384</td>\n",
       "      <td>110909</td>\n",
       "      <td>125293</td>\n",
       "      <td>0.268705</td>\n",
       "      <td>0.282216</td>\n",
       "      <td>0.267047</td>\n",
       "      <td>-0.055251</td>\n",
       "      <td>0.110443</td>\n",
       "      <td>0.049757</td>\n",
       "      <td>0.339750</td>\n",
       "      <td>0.545780</td>\n",
       "      <td>0.290782</td>\n",
       "    </tr>\n",
       "    <tr>\n",
       "      <th>B</th>\n",
       "      <td>10759</td>\n",
       "      <td>126170</td>\n",
       "      <td>136929</td>\n",
       "      <td>0.293659</td>\n",
       "      <td>0.211093</td>\n",
       "      <td>0.303792</td>\n",
       "      <td>0.364043</td>\n",
       "      <td>0.036745</td>\n",
       "      <td>0.071123</td>\n",
       "      <td>0.419294</td>\n",
       "      <td>0.839439</td>\n",
       "      <td>0.290782</td>\n",
       "    </tr>\n",
       "    <tr>\n",
       "      <th>A</th>\n",
       "      <td>2897</td>\n",
       "      <td>71970</td>\n",
       "      <td>74867</td>\n",
       "      <td>0.160561</td>\n",
       "      <td>0.056840</td>\n",
       "      <td>0.173289</td>\n",
       "      <td>1.114730</td>\n",
       "      <td>0.130503</td>\n",
       "      <td>0.154254</td>\n",
       "      <td>0.750686</td>\n",
       "      <td>1.000000</td>\n",
       "      <td>0.290782</td>\n",
       "    </tr>\n",
       "  </tbody>\n",
       "</table>\n",
       "</div>"
      ],
      "text/plain": [
       "non_default         0       1   n_obs  n_obs_rel   bad_rel  good_rel  \\\n",
       "variable grade                                                         \n",
       "grade    G        924    2398    3322   0.007124  0.018129  0.005774   \n",
       "         F       3192   10037   13229   0.028371  0.062628  0.024167   \n",
       "         E       6964   28793   35757   0.076685  0.136635  0.069328   \n",
       "         D      11848   65040   76888   0.164895  0.232460  0.156603   \n",
       "         C      14384  110909  125293   0.268705  0.282216  0.267047   \n",
       "         B      10759  126170  136929   0.293659  0.211093  0.303792   \n",
       "         A       2897   71970   74867   0.160561  0.056840  0.173289   \n",
       "\n",
       "non_default          woe  good_rel_diff  bad_rel_diff  woe_diff  \\\n",
       "variable grade                                                    \n",
       "grade    G     -1.144166            NaN           NaN       NaN   \n",
       "         F     -0.952214       0.018393      0.044499  0.191952   \n",
       "         E     -0.678466       0.045161      0.074007  0.273748   \n",
       "         D     -0.395001       0.087276      0.095825  0.283465   \n",
       "         C     -0.055251       0.110443      0.049757  0.339750   \n",
       "         B      0.364043       0.036745      0.071123  0.419294   \n",
       "         A      1.114730       0.130503      0.154254  0.750686   \n",
       "\n",
       "non_default     accum_n_obs_rel        iv  \n",
       "variable grade                             \n",
       "grade    G             0.007124  0.290782  \n",
       "         F             0.035495  0.290782  \n",
       "         E             0.112180  0.290782  \n",
       "         D             0.277075  0.290782  \n",
       "         C             0.545780  0.290782  \n",
       "         B             0.839439  0.290782  \n",
       "         A             1.000000  0.290782  "
      ]
     },
     "execution_count": 18,
     "metadata": {},
     "output_type": "execute_result"
    }
   ],
   "source": [
    "calculate_woe_iv(cat_df, cat_df['grade'], cat_df['non_default'], multilevel_index=True)"
   ]
  },
  {
   "cell_type": "code",
   "execution_count": 19,
   "id": "5aeef5ed-f604-4547-9631-0d07c7de8020",
   "metadata": {},
   "outputs": [],
   "source": [
    "woe_summary = run_woe_iv(data=cat_df, independent_vars=categories, dependent_var='non_default')"
   ]
  },
  {
   "cell_type": "code",
   "execution_count": 20,
   "id": "b42506a5-64b8-42c8-bc84-f33ca405ec12",
   "metadata": {},
   "outputs": [
    {
     "data": {
      "text/plain": [
       "variable\n",
       "sub_grade                 0.31518048388061826\n",
       "grade                     0.29078213954153515\n",
       "term                       0.0388598343886394\n",
       "purpose                   0.03698019472315489\n",
       "initial_list_status      0.024801321308154253\n",
       "home_ownership            0.02169733320858703\n",
       "verification_status      0.020831404234464192\n",
       "addr_state               0.012672623763957586\n",
       "emp_length              0.0048260242100888395\n",
       "pymnt_plan             0.00012456255520646649\n",
       "application_type        7.407096244268185e-25\n",
       "policy_code             7.407096244268185e-25\n",
       "Name: iv, dtype: object"
      ]
     },
     "execution_count": 20,
     "metadata": {},
     "output_type": "execute_result"
    }
   ],
   "source": [
    "woe_summary.groupby(level=0)['iv'].max().sort_values(ascending=False).apply(lambda v: '{0}'.format(str(v)))"
   ]
  },
  {
   "cell_type": "markdown",
   "id": "5f1f423c-7b63-4ada-9bfe-1e932f58da4c",
   "metadata": {},
   "source": [
    "**Plot WoE**:"
   ]
  },
  {
   "cell_type": "code",
   "execution_count": 21,
   "id": "77cd95de-1c19-4d2c-ba58-499d3a52f920",
   "metadata": {},
   "outputs": [],
   "source": [
    "def plot_woe(woe_series: pd.Series, labels: pd.Series | None = None):\n",
    "    fig = plt.figure(figsize=(18, 6))\n",
    "\n",
    "    style_dict = {\n",
    "                  'xlabel': 'Categories',\n",
    "                  'title': '{0}'.format(woe_series.name),\n",
    "                 }\n",
    "    ax = fig.add_subplot(1,1,1, **style_dict)\n",
    "    ax.grid()\n",
    "    ax.plot(woe_series.index, woe_series.values, color='red', marker='o', linestyle='--')\n",
    "\n",
    "    if labels is not None:\n",
    "        for (i, label), value in zip(enumerate(labels.values), woe_series.values) :\n",
    "            ax.text(i, value + 0.1, label)\n",
    "    \n",
    "    return ax"
   ]
  },
  {
   "cell_type": "code",
   "execution_count": 22,
   "id": "fe08c069-3be2-4834-9903-3fd1d14e6a5e",
   "metadata": {},
   "outputs": [
    {
     "data": {
      "text/plain": [
       "<Axes: title={'center': 'woe'}, xlabel='Categories'>"
      ]
     },
     "execution_count": 22,
     "metadata": {},
     "output_type": "execute_result"
    },
    {
     "data": {
      "image/png": "[encoded data removed]",
      "text/plain": [
       "<Figure size 1800x600 with 1 Axes>"
      ]
     },
     "metadata": {},
     "output_type": "display_data"
    }
   ],
   "source": [
    "plot_woe(woe_summary.loc['grade', :]['woe'], labels=woe_summary.loc['grade', :]['n_obs_rel'].apply(lambda v: 'rel. freq.:{0:.2%}'.format(v)))"
   ]
  },
  {
   "cell_type": "markdown",
   "id": "6a62ac0d-78a7-4bea-88b2-153d50e5bcb1",
   "metadata": {},
   "source": [
    "**Category-grouping tools**:"
   ]
  },
  {
   "cell_type": "code",
   "execution_count": 1025,
   "id": "5a745351-ed41-4b34-a5ef-8df0808d2768",
   "metadata": {},
   "outputs": [],
   "source": [
    "from collections.abc import Iterable\n",
    "import abc\n",
    "\n",
    "class Component(Iterable, abc.ABC):\n",
    "\n",
    "    def __init__(self, *args, **kwargs):\n",
    "        self.children = list()\n",
    "        self._name: str = ''\n",
    "    \n",
    "    def add_child(self, element) -> 'Component':\n",
    "        self.children.append(element)\n",
    "\n",
    "        return self\n",
    "        \n",
    "    def remove_child(self, element) -> 'Component':\n",
    "        self.children.append(element)\n",
    "\n",
    "        return self\n",
    "\n",
    "    def _str_leaves(self, indent: int = 0) -> str:\n",
    "        initial_str: str = '| ' * indent + f'|----{self.name}\\n'\n",
    "        for element in self:\n",
    "            if isinstance(element, Component):\n",
    "                initial_str += element._str_leaves(indent + 1)\n",
    "\n",
    "            else:\n",
    "                initial_str += '| ' * (indent + 1) + f'|----{str(element)}\\n'\n",
    "\n",
    "        return initial_str\n",
    "        \n",
    "    @abc.abstractmethod\n",
    "    def transform(self, *args, **kwargs) -> Any: pass\n",
    "\n",
    "    @abc.abstractproperty\n",
    "    def name(self) -> str: pass\n",
    "\n",
    "    def __str__(self) -> str:\n",
    "        return self._str_leaves(indent=0)\n",
    "\n",
    "\n",
    "class Group(Component):\n",
    "\n",
    "    def transform(self) -> Callable:\n",
    "        return self.children.__contains__\n",
    "\n",
    "    @property\n",
    "    def name(self):\n",
    "        return '_'.join(map(str, self.children))\n",
    "\n",
    "    def extend_group(self, elements) -> Component:\n",
    "        self.children.extend(elements)\n",
    "\n",
    "        return self\n",
    "\n",
    "    def __iter__(self):\n",
    "        for value in self.children:\n",
    "            yield value\n",
    "\n",
    "\n",
    "class GroupedColumn(Group):\n",
    "\n",
    "    def __init__(self, name: str, *args, **kwargs):\n",
    "        Component.__init__(self, *args, **kwargs)\n",
    "        self._name = name\n",
    "\n",
    "    def transform(self, series: pd.Series) -> pd.DataFrame:\n",
    "        df_dict: dict[str, pd.Series] = {}\n",
    "        for group in self:\n",
    "            df_dict[self.name + '_' + str(group)] = series.apply(group.transform()).apply(int)\n",
    "            \n",
    "        return pd.DataFrame(df_dict)\n",
    "\n",
    "    @property\n",
    "    def name(self):\n",
    "        return self._name\n",
    "\n",
    "    def add_remainder(self, elements: List[str]) -> Component:\n",
    "        new_elements = set(elements)\n",
    "        for column in self:\n",
    "            new_elements-= set(column.children)\n",
    "\n",
    "        if new_elements:\n",
    "            self.add_child(Group().extend_group(list(new_elements)))\n",
    "\n",
    "        return self\n",
    "\n",
    "\n",
    "class DataFrameTransform(Group):\n",
    "\n",
    "    def transform(self, df: pd.DataFrame, remove_originals: bool = False) -> pd.DataFrame:\n",
    "        for column in self:\n",
    "            df = pd.concat([df, column.transform(df[column.name])], axis=1)\n",
    "            if remove_originals:\n",
    "                df = df.drop(column.name, axis=1)\n",
    "            \n",
    "        return df\n",
    "\n",
    "    @property\n",
    "    def name(self):\n",
    "        return 'DataFrameTransform'"
   ]
  },
  {
   "cell_type": "code",
   "execution_count": 1026,
   "id": "c6cb7912-862f-4655-b4ff-307e80a3e35a",
   "metadata": {},
   "outputs": [],
   "source": [
    "gc = GroupedColumn('test')"
   ]
  },
  {
   "cell_type": "code",
   "execution_count": 1027,
   "id": "1ba2c2a2-ea69-4346-9f51-f308202cf222",
   "metadata": {},
   "outputs": [],
   "source": [
    "a = [1, 2, 3, 4, 5]\n",
    "b = [2, 3, 4]\n",
    "c = [4, 5]"
   ]
  },
  {
   "cell_type": "code",
   "execution_count": 1028,
   "id": "099af992-234f-4c4a-a807-9cb4f425898e",
   "metadata": {},
   "outputs": [
    {
     "data": {
      "text/plain": [
       "<__main__.GroupedColumn at 0x7fb20afdc860>"
      ]
     },
     "execution_count": 1028,
     "metadata": {},
     "output_type": "execute_result"
    }
   ],
   "source": [
    "gc.add_child(Group().extend_group(b)).add_child(Group().extend_group(c))"
   ]
  },
  {
   "cell_type": "code",
   "execution_count": 1029,
   "id": "87eaa4c6-6503-4b4f-9eda-0f8a87ce1550",
   "metadata": {},
   "outputs": [
    {
     "data": {
      "text/plain": [
       "<__main__.GroupedColumn at 0x7fb20afdc860>"
      ]
     },
     "execution_count": 1029,
     "metadata": {},
     "output_type": "execute_result"
    }
   ],
   "source": [
    "gc.add_remainder(a)"
   ]
  },
  {
   "cell_type": "code",
   "execution_count": 1030,
   "id": "faa63f72-3704-4e67-8eed-f0ab033c206b",
   "metadata": {},
   "outputs": [
    {
     "data": {
      "text/plain": [
       "'test'"
      ]
     },
     "execution_count": 1030,
     "metadata": {},
     "output_type": "execute_result"
    }
   ],
   "source": [
    "gc.name"
   ]
  },
  {
   "cell_type": "code",
   "execution_count": 1031,
   "id": "6c82415a-b132-4b3a-a00b-217a831fdf7b",
   "metadata": {},
   "outputs": [
    {
     "name": "stdout",
     "output_type": "stream",
     "text": [
      "|----2_3_4\n",
      "| |----2\n",
      "| |----3\n",
      "| |----4\n",
      "\n"
     ]
    }
   ],
   "source": [
    "print(Group().extend_group(b))"
   ]
  },
  {
   "cell_type": "code",
   "execution_count": 1032,
   "id": "924c90f8-78f9-4550-807f-fa6dfc02c44b",
   "metadata": {},
   "outputs": [
    {
     "name": "stdout",
     "output_type": "stream",
     "text": [
      "|----test\n",
      "| |----2_3_4\n",
      "| | |----2\n",
      "| | |----3\n",
      "| | |----4\n",
      "| |----4_5\n",
      "| | |----4\n",
      "| | |----5\n",
      "| |----1\n",
      "| | |----1\n",
      "\n"
     ]
    }
   ],
   "source": [
    "print(gc)"
   ]
  },
  {
   "cell_type": "code",
   "execution_count": 1033,
   "id": "b0923dfb-2092-44ec-8023-6dc40a9575d5",
   "metadata": {},
   "outputs": [],
   "source": [
    "dummy = DataFrameTransform()"
   ]
  },
  {
   "cell_type": "code",
   "execution_count": 1034,
   "id": "aad0b479-7992-4f8d-a6eb-36be07dc6e1b",
   "metadata": {},
   "outputs": [
    {
     "data": {
      "text/plain": [
       "<__main__.DataFrameTransform at 0x7fb20afdf140>"
      ]
     },
     "execution_count": 1034,
     "metadata": {},
     "output_type": "execute_result"
    }
   ],
   "source": [
    "dummy.add_child(gc)"
   ]
  },
  {
   "cell_type": "code",
   "execution_count": 1035,
   "id": "90f83225-0897-4227-9eb4-6e3eb0a2294e",
   "metadata": {},
   "outputs": [
    {
     "name": "stdout",
     "output_type": "stream",
     "text": [
      "|----DataFrameTransform\n",
      "| |----test\n",
      "| | |----2_3_4\n",
      "| | | |----2\n",
      "| | | |----3\n",
      "| | | |----4\n",
      "| | |----4_5\n",
      "| | | |----4\n",
      "| | | |----5\n",
      "| | |----1\n",
      "| | | |----1\n",
      "\n"
     ]
    }
   ],
   "source": [
    "print(dummy)"
   ]
  },
  {
   "cell_type": "markdown",
   "id": "9bed50a2-8bd1-427f-ab31-485432a74c4e",
   "metadata": {},
   "source": [
    "### Group Categories\n",
    "\n",
    "Variables:\n",
    "- Home ownership\n",
    "- Grade\n",
    "- State\n",
    "- Verification status\n",
    "- Purpose\n",
    "- Initial List status"
   ]
  },
  {
   "cell_type": "code",
   "execution_count": 315,
   "id": "40503656-fdab-4f6f-9765-97de71e02a95",
   "metadata": {},
   "outputs": [],
   "source": [
    "dft = DataFrameTransform()"
   ]
  },
  {
   "cell_type": "markdown",
   "id": "8fddf136-a74b-45ec-ad8d-c2c21a043f97",
   "metadata": {},
   "source": [
    "**Grade**"
   ]
  },
  {
   "cell_type": "code",
   "execution_count": 180,
   "id": "632d44d3-d953-4891-b6c1-4271b91190c4",
   "metadata": {},
   "outputs": [],
   "source": [
    "grade_groups = GroupedColumn('grade')"
   ]
  },
  {
   "cell_type": "code",
   "execution_count": 183,
   "id": "21b4e770-d287-4c39-aed1-23c68146b8f0",
   "metadata": {},
   "outputs": [
    {
     "data": {
      "text/plain": [
       "<Axes: title={'center': 'woe'}, xlabel='Categories'>"
      ]
     },
     "execution_count": 183,
     "metadata": {},
     "output_type": "execute_result"
    },
    {
     "data": {
      "image/png": "[encoded data removed]",
      "text/plain": [
       "<Figure size 1800x600 with 1 Axes>"
      ]
     },
     "metadata": {},
     "output_type": "display_data"
    }
   ],
   "source": [
    "plot_woe(woe_summary.loc['grade', :]['woe'], labels=woe_summary.loc['grade', :]['n_obs_rel'].apply(lambda v: 're. freq.:{:.2%}'.format(v)))"
   ]
  },
  {
   "cell_type": "code",
   "execution_count": null,
   "id": "b62aef7b-1281-4983-ba0b-f7b26f208792",
   "metadata": {},
   "outputs": [],
   "source": []
  }
 ],
 "metadata": {
  "kernelspec": {
   "display_name": "Python 3 (ipykernel)",
   "language": "python",
   "name": "python3"
  },
  "language_info": {
   "codemirror_mode": {
    "name": "ipython",
    "version": 3
   },
   "file_extension": ".py",
   "mimetype": "text/x-python",
   "name": "python",
   "nbconvert_exporter": "python",
   "pygments_lexer": "ipython3",
   "version": "3.12.0"
  }
 },
 "nbformat": 4,
 "nbformat_minor": 5
}
