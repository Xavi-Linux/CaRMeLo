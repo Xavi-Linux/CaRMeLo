{
 "cells": [
  {
   "cell_type": "markdown",
   "id": "5f20612b-91c7-461d-a487-904685caf5d0",
   "metadata": {},
   "source": [
    "## Import Libraries"
   ]
  },
  {
   "cell_type": "code",
   "execution_count": 4,
   "id": "9ffc4fd1-20da-4f58-9f62-e0334d9b6487",
   "metadata": {},
   "outputs": [],
   "source": [
    "import pandas as pd\n",
    "import numpy as np\n",
    "from pathlib import Path"
   ]
  },
  {
   "cell_type": "code",
   "execution_count": 5,
   "id": "63b04429-ec3d-400c-a20c-06027e487c30",
   "metadata": {},
   "outputs": [],
   "source": [
    "pd.set_option('display.max_rows', None, 'display.max_columns', None)\n",
    "pd.set_option('display.max_colwidth', None)"
   ]
  },
  {
   "cell_type": "code",
   "execution_count": 6,
   "id": "fed23f3c-6022-46f6-9129-c24e1c29f0f7",
   "metadata": {},
   "outputs": [
    {
     "name": "stdout",
     "output_type": "stream",
     "text": [
      "/home/xavi/Documents/CreditRisk/data/curated\n"
     ]
    }
   ],
   "source": [
    "!pwd"
   ]
  },
  {
   "cell_type": "code",
   "execution_count": 9,
   "id": "3017b2b6-d2c2-4dc8-82f2-bae9f1fd5dcf",
   "metadata": {},
   "outputs": [],
   "source": [
    "file: Path = Path('/home/xavi/Documents/CreditRisk/data/curated/dataset.parquet')"
   ]
  },
  {
   "cell_type": "code",
   "execution_count": 10,
   "id": "b4a8829a-03bf-4707-be1c-21235418b832",
   "metadata": {},
   "outputs": [],
   "source": [
    "df: pd.DataFrame = pd.read_parquet(file, engine='pyarrow')"
   ]
  },
  {
   "cell_type": "markdown",
   "id": "e791c3c3-9b81-4879-922b-c5512440c4e4",
   "metadata": {},
   "source": [
    "### Depedent variable:"
   ]
  },
  {
   "cell_type": "code",
   "execution_count": 12,
   "id": "468fb8c8-cd41-4ecd-9625-5581fc236fb3",
   "metadata": {},
   "outputs": [
    {
     "data": {
      "text/plain": [
       "loan_status\n",
       "Current                                                224226\n",
       "Fully Paid                                             184739\n",
       "Charged Off                                             42475\n",
       "Late (31-120 days)                                       6900\n",
       "In Grace Period                                          3146\n",
       "Does not meet the credit policy. Status:Fully Paid       1988\n",
       "Late (16-30 days)                                        1218\n",
       "Default                                                   832\n",
       "Does not meet the credit policy. Status:Charged Off       761\n",
       "Name: count, dtype: int64"
      ]
     },
     "execution_count": 12,
     "metadata": {},
     "output_type": "execute_result"
    }
   ],
   "source": [
    "df['loan_status'].value_counts(dropna=False)"
   ]
  },
  {
   "cell_type": "code",
   "execution_count": null,
   "id": "30215db3-2997-4f1f-94b3-c275138c1bd5",
   "metadata": {},
   "outputs": [],
   "source": []
  }
 ],
 "metadata": {
  "kernelspec": {
   "display_name": "Python 3 (ipykernel)",
   "language": "python",
   "name": "python3"
  },
  "language_info": {
   "codemirror_mode": {
    "name": "ipython",
    "version": 3
   },
   "file_extension": ".py",
   "mimetype": "text/x-python",
   "name": "python",
   "nbconvert_exporter": "python",
   "pygments_lexer": "ipython3",
   "version": "3.12.0"
  }
 },
 "nbformat": 4,
 "nbformat_minor": 5
}
